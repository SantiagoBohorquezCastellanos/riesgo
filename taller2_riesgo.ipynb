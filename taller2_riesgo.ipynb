{
  "nbformat": 4,
  "nbformat_minor": 0,
  "metadata": {
    "colab": {
      "provenance": []
    },
    "kernelspec": {
      "name": "python3",
      "display_name": "Python 3"
    },
    "language_info": {
      "name": "python"
    }
  },
  "cells": [
    {
      "cell_type": "markdown",
      "source": [
        "RENTA \n"
      ],
      "metadata": {
        "id": "MgCExzxHJXJd"
      }
    },
    {
      "cell_type": "code",
      "execution_count": null,
      "metadata": {
        "id": "uZqa1lFJJFO_"
      },
      "outputs": [],
      "source": [
        "import yfinance as yf\n",
        "\n",
        "# Lista de símbolos de acciones\n",
        "simbolos = [\"XOM\", \"CVX\", \"SHW\", \"DD\", \"BA\", \"UNP\", \"DUK\", \"ED\", \"AEP\", \"UNH\", \"JNJ\",\"BRK-A\",\"BRK-B\",\"AMZN\",\"MCD\",\"PG\",\"KO\", \"MSFT\", \"AAPL\",\"GOOG\"]\n",
        "\n",
        "# Diccionario para almacenar los datos de cada acción\n",
        "datos_acciones = {}\n",
        "\n",
        "# Obtener los datos de cada acción y almacenarlos en el diccionario\n",
        "for simbolo in simbolos:\n",
        "    accion = yf.Ticker(simbolo)\n",
        "    datos_acciones[simbolo] = accion.history(period=\"max\")\n",
        "\n",
        "# Imprimir los primeros 5 registros del historial de precios de cada acción\n",
        "for simbolo, datos in datos_acciones.items():\n",
        "    print(f\"\\n{simbolo}:\\n{datos.head()}\")\n"
      ]
    },
    {
      "cell_type": "markdown",
      "source": [
        "RENTA VARIABLE"
      ],
      "metadata": {
        "id": "Rm9Gc5mEJbZz"
      }
    },
    {
      "cell_type": "code",
      "source": [
        "import yfinance as yf\n",
        "\n",
        "# Lista de símbolos de acciones\n",
        "simbolos = [\"TLT\", \"IEF\", \"SHY\", \"SGOV\", \"SHV\", \"GOVT\"]\n",
        "\n",
        "# Diccionario para almacenar los datos de cada acción\n",
        "datos_acciones = {}\n",
        "\n",
        "# Obtener los datos de cada acción y almacenarlos en el diccionario\n",
        "for simbolo in simbolos:\n",
        "    accion = yf.Ticker(simbolo)\n",
        "    datos_acciones[simbolo] = accion.history(period=\"max\")\n",
        "\n",
        "# Imprimir los primeros 5 registros del historial de precios de cada acción\n",
        "for simbolo, datos in datos_acciones.items():\n",
        "    print(f\"\\n{simbolo}:\\n{datos.head()}\")\n"
      ],
      "metadata": {
        "id": "syGRlh9VJVqE"
      },
      "execution_count": null,
      "outputs": []
    }
  ]
}